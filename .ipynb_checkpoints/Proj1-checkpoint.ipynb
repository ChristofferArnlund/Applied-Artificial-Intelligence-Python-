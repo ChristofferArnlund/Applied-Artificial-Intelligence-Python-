{
 "cells": [
  {
   "cell_type": "code",
   "execution_count": 1,
   "metadata": {
    "collapsed": true
   },
   "outputs": [],
   "source": [
    "#Reversi imports\n",
    "import random\n",
    "import sys"
   ]
  },
  {
   "cell_type": "code",
   "execution_count": 2,
   "metadata": {
    "collapsed": false
   },
   "outputs": [],
   "source": [
    "def drawBoard(board):\n",
    "    #Prints out board that is passed. Return None.\n",
    "    HLINE = '  +---+---+---+---+---+---+---+---+'\n",
    "    VLINE = '  |   |   |   |   |   |   |   |   |'\n",
    "    print  ('    1   2   3   4   5   6   7   8')\n",
    "    print(HLINE)\n",
    "    for y in range(8):\n",
    "        print(VLINE)\n",
    "        print (y+1,end=' ')\n",
    "        for x in range(8):\n",
    "            print('| %s' % (board[x][y]),end=' ')\n",
    "        print('|')\n",
    "        print(VLINE)\n",
    "        print(HLINE)"
   ]
  },
  {
   "cell_type": "code",
   "execution_count": 3,
   "metadata": {
    "collapsed": false
   },
   "outputs": [],
   "source": [
    "def resetBoard(board):\n",
    "# boardReset\n",
    "    for x in range(8):\n",
    "        for y in range(8):\n",
    "            board[x][y] = ' '\n",
    "            \n",
    "    # starting pieces\n",
    "    board[3][3]='X'\n",
    "    board[3][4]='O'\n",
    "    board[4][3]='O'\n",
    "    board[4][4]='X'\n",
    "    "
   ]
  },
  {
   "cell_type": "code",
   "execution_count": 4,
   "metadata": {
    "collapsed": false
   },
   "outputs": [],
   "source": [
    "def getNewBoard():\n",
    "    #create a new blank board \n",
    "    board=[]\n",
    "    for i in range(8):\n",
    "        board.append([' '] * 8)\n",
    "        \n",
    "    return board"
   ]
  },
  {
   "cell_type": "code",
   "execution_count": 5,
   "metadata": {
    "collapsed": false
   },
   "outputs": [],
   "source": [
    "def isValidMove(board, tile, xstart, ystart):\n",
    "    # Returns False if the player's move on space xstart, ystart is invalid\n",
    "    # If it's a valid move, returns a list of spaces that would become the players if they made a move here\n",
    "    \n",
    "    if board[xstart][ystart] != ' ' or not isOnBoard(xstart,ystart):\n",
    "        return False\n",
    "    board[xstart][ystart] = tile # temporarily set the tile on the board\n",
    "    if tile == 'X':\n",
    "        otherTile = 'O'\n",
    "    else:\n",
    "        otherTile = 'X'\n",
    "    tilesToFlip= []\n",
    "    #up, up,down,left, right diagonals\n",
    "    for xdirection, ydirection in [[0, 1], [1, 1], [1, 0], [1, -1], [0, -1], [-1, -1], [-1, 0], [-1, 1]]:\n",
    "        x,y = xstart, ystart\n",
    "        x += xdirection #first step\n",
    "        y += ydirection\n",
    "        #if piece belong to other player next to our\n",
    "        # the first step in this direction must be 1) on the board and 2) must be occupied by the other player’s tile\n",
    "        if isOnBoard(x,y) and board[x][y] == otherTile:\n",
    "            x += xdirection\n",
    "            y += ydirection\n",
    "            if not isOnBoard(x,y):\n",
    "                continue\n",
    "            # if the first space does have the other player’s tile, then check\n",
    "            #that direction until it reaches one of the player’s tiles. \n",
    "            #If it reaches past the end of the board continue back to the for statement and try the next direction.\n",
    "            while board [x][y] == otherTile:\n",
    "                x+=xdirection\n",
    "                y+=ydirection\n",
    "                #quit while loop and continue in for\n",
    "                if not isOnBoard(x,y):\n",
    "                    break\n",
    "            if not isOnBoard(x,y):\n",
    "                continue\n",
    "        #Find out if there are pieces to flip over\n",
    "        #reverse till we reach original place taking notes\n",
    "            if board[x][y] == tile:\n",
    "                while True:\n",
    "                    x -= xdirection\n",
    "                    y -= ydirection\n",
    "                    if x == xstart and y == ystart:\n",
    "                        break\n",
    "                    tilesToFlip.append([x,y])\n",
    "            #restore empty space        \n",
    "          \n",
    "    board[xstart][ystart] = ' '\n",
    "    #if no tiles were flipped, not a valid move        \n",
    "    if len(tilesToFlip) == 0:\n",
    "        return False\n",
    "    return tilesToFlip   "
   ]
  },
  {
   "cell_type": "code",
   "execution_count": 6,
   "metadata": {
    "collapsed": true
   },
   "outputs": [],
   "source": [
    "def isOnBoard(x, y):\n",
    "    #Returns True: if on Board else false\n",
    "    return x>=0 and x<=7 and y >=0 and y <=7"
   ]
  },
  {
   "cell_type": "code",
   "execution_count": 7,
   "metadata": {
    "collapsed": true
   },
   "outputs": [],
   "source": [
    "def getBoardWithValidMoves(board, tile):\n",
    "    dupeBoard = getBoardCopy(board)\n",
    "    for x,y in getValidMoves(dupeBoard,tile):\n",
    "        dupeBoard[x][y] = '.'\n",
    "    return dupeBoard"
   ]
  },
  {
   "cell_type": "code",
   "execution_count": 8,
   "metadata": {
    "collapsed": false
   },
   "outputs": [],
   "source": [
    "def getValidMoves(board,tile):\n",
    "    #Return list of [x,y] array of valid moves for \n",
    "    #given player and board\n",
    "    #checks all spaces and each valid move is appended\n",
    "    validMoves=[]\n",
    "    \n",
    "    for x in range(8):\n",
    "        for y in range (8):\n",
    "            if isValidMove(board,tile,x,y) != False:\n",
    "                print('this is a valid move: ' +str(x)+ ' '+str(y))\n",
    "                validMoves.append([x,y])\n",
    "    return validMoves"
   ]
  },
  {
   "cell_type": "code",
   "execution_count": 9,
   "metadata": {
    "collapsed": false
   },
   "outputs": [],
   "source": [
    "def getScoreOfBoard(board):\n",
    "    xscore = 0\n",
    "    oscore = 0\n",
    "    for x in range(8):\n",
    "        for y in range(8):\n",
    "            if board[x][y] == 'X':\n",
    "                xscore += 1\n",
    "            if board[x][y] == 'O':\n",
    "                oscore += 1\n",
    "    return {'X':xscore, 'O':oscore}"
   ]
  },
  {
   "cell_type": "code",
   "execution_count": 10,
   "metadata": {
    "collapsed": false
   },
   "outputs": [],
   "source": [
    "def enterPlayerTile():\n",
    "    tile =''\n",
    "    while not (tile == 'X' or tile == 'O'):\n",
    "        print('Do you wnat to be X or O?')\n",
    "        tile = input().upper()\n",
    "        if tile == 'X':\n",
    "            return ['X','O']\n",
    "        else:\n",
    "            return ['O','X']"
   ]
  },
  {
   "cell_type": "code",
   "execution_count": 11,
   "metadata": {
    "collapsed": true
   },
   "outputs": [],
   "source": [
    "def whoGoesFirst():\n",
    "    if random.randint(0, 1) == 0:\n",
    "        return 'computer'\n",
    "    else:\n",
    "        return 'player'\n",
    "        "
   ]
  },
  {
   "cell_type": "code",
   "execution_count": 12,
   "metadata": {
    "collapsed": false
   },
   "outputs": [],
   "source": [
    "def playAgain():\n",
    "    print('Do you want to play again? (yes or no)')\n",
    "    return input().lower().startswith('y')"
   ]
  },
  {
   "cell_type": "code",
   "execution_count": 13,
   "metadata": {
    "collapsed": true
   },
   "outputs": [],
   "source": [
    "def makeMove(board,tile,xstart,ystart):\n",
    "    tilesToFlip = isValidMove(board,tile,xstart,ystart)\n",
    "    if tilesToFlip == False:\n",
    "        return False\n",
    "    board[xstart][ystart] = tile\n",
    "    for x,y in tilesToFlip:\n",
    "        board[x][y] = tile\n",
    "    return True"
   ]
  },
  {
   "cell_type": "code",
   "execution_count": 14,
   "metadata": {
    "collapsed": true
   },
   "outputs": [],
   "source": [
    "def getBoardCopy(board):\n",
    "    dupeBoard= getNewBoard()\n",
    "    \n",
    "    for x in range (8):\n",
    "        for y in range (8):\n",
    "            dupeBoard[x][y]= board[x][y]\n",
    "    return dupeBoard"
   ]
  },
  {
   "cell_type": "code",
   "execution_count": 15,
   "metadata": {
    "collapsed": false
   },
   "outputs": [],
   "source": [
    "def isOnCorner(x, y):\n",
    "    return (x == 0 and y == 0) or (x == 7 and y == 0) or (x == 0 and y == 7) or (x == 7 and y == 7)"
   ]
  },
  {
   "cell_type": "code",
   "execution_count": 16,
   "metadata": {
    "collapsed": false
   },
   "outputs": [],
   "source": [
    "def getPlayerMove(board, playerTile):\n",
    "    DIGITS1T08 = '1 2 3 4 5 6 7 8'.split()\n",
    "    while True:\n",
    "        print('Enter your move, or type quit to end the game, or hints to turn on/off hints')\n",
    "        move = input().lower()\n",
    "        if move == 'quit':\n",
    "            return 'quit'\n",
    "        if move == 'hints':\n",
    "            return 'hints'\n",
    "        if len(move) == 2 and move[0] in DIGITS1T08 and move [1] in DIGITS1T08:\n",
    "            x= int(move [0]) -1\n",
    "            y = int(move[1]) -1\n",
    "            if isValidMove(board, playerTile,x,y)==False:\n",
    "                continue\n",
    "            else:\n",
    "                break\n",
    "        else:\n",
    "            print ('That is not a valid move. Type the x digit (1-8) then y digit (1-8). ex: 76')\n",
    "    return [x,y]\n",
    "            "
   ]
  },
  {
   "cell_type": "code",
   "execution_count": 17,
   "metadata": {
    "collapsed": false
   },
   "outputs": [],
   "source": [
    "def getComputerMove(board,computerTile):\n",
    "    print(\"WOOO\")\n",
    "    possibleMoves = getValidMoves(board, computerTile)\n",
    "    print(possibleMoves)\n",
    "    random.shuffle(possibleMoves)\n",
    "    \n",
    "    for x, y in possibleMoves:\n",
    "        if isOnCorner(x,y):\n",
    "            return [x,y]\n",
    "   \n",
    "    bestScore = -1\n",
    "    for x,y in possibleMoves:\n",
    "        dupeBoard = getBoardCopy(board)\n",
    "        makeMove(dupeBoard, computerTile,x,y)\n",
    "        score = getScoreOfBoard(dupeBoard)[computerTile]\n",
    "        print('bestScore '+str(bestScore))\n",
    "        print('score: '+str(score))\n",
    "        if score > bestScore:\n",
    "            bestMove = [x, y]\n",
    "            bestScore = score\n",
    "    return bestMove\n"
   ]
  },
  {
   "cell_type": "code",
   "execution_count": null,
   "metadata": {
    "collapsed": true
   },
   "outputs": [],
   "source": [
    "def showPoints(playerTile, computerTile):\n",
    "    scores = getScoreOfBoard(mainBoard)\n",
    "    print(scores)\n",
    "    print('You have %s points. The computer has %s points.' % (scores[playerTile], scores[computerTile]))"
   ]
  },
  {
   "cell_type": "code",
   "execution_count": null,
   "metadata": {
    "collapsed": false
   },
   "outputs": [
    {
     "name": "stdout",
     "output_type": "stream",
     "text": [
      "Welcome to Reversi!\n",
      "Do you wnat to be X or O?\n",
      "X\n",
      "The computer will go first\n",
      "    1   2   3   4   5   6   7   8\n",
      "  +---+---+---+---+---+---+---+---+\n",
      "  |   |   |   |   |   |   |   |   |\n",
      "1 |   |   |   |   |   |   |   |   |\n",
      "  |   |   |   |   |   |   |   |   |\n",
      "  +---+---+---+---+---+---+---+---+\n",
      "  |   |   |   |   |   |   |   |   |\n",
      "2 |   |   |   |   |   |   |   |   |\n",
      "  |   |   |   |   |   |   |   |   |\n",
      "  +---+---+---+---+---+---+---+---+\n",
      "  |   |   |   |   |   |   |   |   |\n",
      "3 |   |   |   |   |   |   |   |   |\n",
      "  |   |   |   |   |   |   |   |   |\n",
      "  +---+---+---+---+---+---+---+---+\n",
      "  |   |   |   |   |   |   |   |   |\n",
      "4 |   |   |   | X | O |   |   |   |\n",
      "  |   |   |   |   |   |   |   |   |\n",
      "  +---+---+---+---+---+---+---+---+\n",
      "  |   |   |   |   |   |   |   |   |\n",
      "5 |   |   |   | O | X |   |   |   |\n",
      "  |   |   |   |   |   |   |   |   |\n",
      "  +---+---+---+---+---+---+---+---+\n",
      "  |   |   |   |   |   |   |   |   |\n",
      "6 |   |   |   |   |   |   |   |   |\n",
      "  |   |   |   |   |   |   |   |   |\n",
      "  +---+---+---+---+---+---+---+---+\n",
      "  |   |   |   |   |   |   |   |   |\n",
      "7 |   |   |   |   |   |   |   |   |\n",
      "  |   |   |   |   |   |   |   |   |\n",
      "  +---+---+---+---+---+---+---+---+\n",
      "  |   |   |   |   |   |   |   |   |\n",
      "8 |   |   |   |   |   |   |   |   |\n",
      "  |   |   |   |   |   |   |   |   |\n",
      "  +---+---+---+---+---+---+---+---+\n",
      "{'X': 2, 'O': 2}\n",
      "You have 2 points. The computer has 2 points.\n",
      "Press Enter to see the Computers move\n",
      "WOOO\n",
      "this is a valid move: 2 3\n",
      "this is a valid move: 3 2\n",
      "this is a valid move: 4 5\n",
      "this is a valid move: 5 4\n",
      "[[2, 3], [3, 2], [4, 5], [5, 4]]\n",
      "bestScore -1\n",
      "score: 4\n",
      "bestScore 4\n",
      "score: 4\n",
      "bestScore 4\n",
      "score: 4\n",
      "bestScore 4\n",
      "score: 4\n",
      "this is a valid move: 2 2\n",
      "this is a valid move: 2 4\n",
      "this is a valid move: 4 2\n",
      "    1   2   3   4   5   6   7   8\n",
      "  +---+---+---+---+---+---+---+---+\n",
      "  |   |   |   |   |   |   |   |   |\n",
      "1 |   |   |   |   |   |   |   |   |\n",
      "  |   |   |   |   |   |   |   |   |\n",
      "  +---+---+---+---+---+---+---+---+\n",
      "  |   |   |   |   |   |   |   |   |\n",
      "2 |   |   |   |   |   |   |   |   |\n",
      "  |   |   |   |   |   |   |   |   |\n",
      "  +---+---+---+---+---+---+---+---+\n",
      "  |   |   |   |   |   |   |   |   |\n",
      "3 |   |   |   | O |   |   |   |   |\n",
      "  |   |   |   |   |   |   |   |   |\n",
      "  +---+---+---+---+---+---+---+---+\n",
      "  |   |   |   |   |   |   |   |   |\n",
      "4 |   |   |   | O | O |   |   |   |\n",
      "  |   |   |   |   |   |   |   |   |\n",
      "  +---+---+---+---+---+---+---+---+\n",
      "  |   |   |   |   |   |   |   |   |\n",
      "5 |   |   |   | O | X |   |   |   |\n",
      "  |   |   |   |   |   |   |   |   |\n",
      "  +---+---+---+---+---+---+---+---+\n",
      "  |   |   |   |   |   |   |   |   |\n",
      "6 |   |   |   |   |   |   |   |   |\n",
      "  |   |   |   |   |   |   |   |   |\n",
      "  +---+---+---+---+---+---+---+---+\n",
      "  |   |   |   |   |   |   |   |   |\n",
      "7 |   |   |   |   |   |   |   |   |\n",
      "  |   |   |   |   |   |   |   |   |\n",
      "  +---+---+---+---+---+---+---+---+\n",
      "  |   |   |   |   |   |   |   |   |\n",
      "8 |   |   |   |   |   |   |   |   |\n",
      "  |   |   |   |   |   |   |   |   |\n",
      "  +---+---+---+---+---+---+---+---+\n",
      "{'X': 1, 'O': 4}\n",
      "You have 1 points. The computer has 4 points.\n",
      "Enter your move, or type quit to end the game, or hints to turn on/off hints\n"
     ]
    }
   ],
   "source": [
    "print('Welcome to Reversi!')\n",
    "\n",
    "while True:\n",
    "    mainBoard = getNewBoard()\n",
    "    resetBoard(mainBoard)\n",
    "    playerTile, computerTile = enterPlayerTile()\n",
    "    showHints = False\n",
    "    turn = whoGoesFirst()\n",
    "    print('The '+ turn + ' will go first')\n",
    "    \n",
    "    while True:\n",
    "        if turn == 'player':\n",
    "            if showHints:\n",
    "                validMovesBoard = getBoardWithValidMoves(mainBoard,playerTile)\n",
    "                \n",
    "                drawBoard(validMovesBoard)\n",
    "            else:\n",
    "                drawBoard(mainBoard)\n",
    "            showPoints(playerTile,computerTile)\n",
    "            move = getPlayerMove(mainBoard, playerTile)    \n",
    "            if move == 'quit':\n",
    "                print('Bye, thanks for playing')\n",
    "                sys.exit()\n",
    "            elif move == 'hints':\n",
    "                    showHints = not showHints\n",
    "                    continue\n",
    "            else:\n",
    "                makeMove(mainBoard, playerTile, move[0],move[1])\n",
    "                \n",
    "            if getValidMoves(mainBoard,computerTile)==[]:\n",
    "                 break\n",
    "            else:\n",
    "                turn = 'computer'\n",
    "            \n",
    "        else:\n",
    "             #computerturn\n",
    "            drawBoard(mainBoard)\n",
    "            showPoints(playerTile,computerTile)\n",
    "            input('Press Enter to see the Computers move')\n",
    "            x,y = getComputerMove(mainBoard,computerTile)\n",
    "            makeMove(mainBoard,computerTile,x,y)    \n",
    "            if getValidMoves(mainBoard,playerTile) == []:\n",
    "                break\n",
    "            else:\n",
    "                turn ='player'\n",
    "    #display final score\n",
    "    drawBoard(mainBoard)\n",
    "    scores=getScoreOfBoard(mainBoard)\n",
    "    print('X score %s points, O scored %s points' % (scores['X'],scores['O']))\n",
    "                \n",
    "    if not playAgain():\n",
    "           break\n",
    "                    "
   ]
  },
  {
   "cell_type": "code",
   "execution_count": null,
   "metadata": {
    "collapsed": false
   },
   "outputs": [],
   "source": [
    "43\n"
   ]
  },
  {
   "cell_type": "code",
   "execution_count": null,
   "metadata": {
    "collapsed": false
   },
   "outputs": [],
   "source": [
    "def test():\n",
    "    mainBoard = getNewBoard()\n",
    "    drawBoard(mainBoard)\n",
    "    for x in range(8):\n",
    "        for y in range(8):\n",
    "            if random.randint(0, 1) == 0:\n",
    "                mainBoard[x][y]='X'\n",
    "            else:\n",
    "                mainBoard[x][y]='O'\n",
    "    drawBoard(mainBoard)\n",
    "                "
   ]
  },
  {
   "cell_type": "code",
   "execution_count": null,
   "metadata": {
    "collapsed": true
   },
   "outputs": [],
   "source": []
  }
 ],
 "metadata": {
  "kernelspec": {
   "display_name": "Python 3",
   "language": "python",
   "name": "python3"
  },
  "language_info": {
   "codemirror_mode": {
    "name": "ipython",
    "version": 3
   },
   "file_extension": ".py",
   "mimetype": "text/x-python",
   "name": "python",
   "nbconvert_exporter": "python",
   "pygments_lexer": "ipython3",
   "version": "3.6.0"
  }
 },
 "nbformat": 4,
 "nbformat_minor": 2
}
